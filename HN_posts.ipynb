{
 "cells": [
  {
   "cell_type": "markdown",
   "metadata": {
    "collapsed": true
   },
   "source": [
    "# Analysing Hacker News' posts\n",
    "\n",
    "In this notebook we are going to discover the answers for the two questions bellow:\n",
    "\n",
    "* Do Ask HN or Show HN receive more comments on average?\n",
    "* Do posts created at a certain time receive more comments on average?\n",
    "\n",
    "## Steps\n",
    "\n",
    "* Opening, reading, converting and displaying some rows of the csv file;"
   ]
  },
  {
   "cell_type": "code",
   "execution_count": 1,
   "metadata": {},
   "outputs": [
    {
     "name": "stdout",
     "output_type": "stream",
     "text": [
      "['id', 'title', 'url', 'num_points', 'num_comments', 'author', 'created_at']\n",
      "['12224879', 'Interactive Dynamic Video', 'http://www.interactivedynamicvideo.com/', '386', '52', 'ne0phyte', '8/4/2016 11:52']\n",
      "['10975351', 'How to Use Open Source and Shut the Fuck Up at the Same Time', 'http://hueniverse.com/2016/01/26/how-to-use-open-source-and-shut-the-fuck-up-at-the-same-time/', '39', '10', 'josep2', '1/26/2016 19:30']\n",
      "['11964716', \"Florida DJs May Face Felony for April Fools' Water Joke\", 'http://www.thewire.com/entertainment/2013/04/florida-djs-april-fools-water-joke/63798/', '2', '1', 'vezycash', '6/23/2016 22:20']\n",
      "['11919867', 'Technology ventures: From Idea to Enterprise', 'https://www.amazon.com/Technology-Ventures-Enterprise-Thomas-Byers/dp/0073523429', '3', '1', 'hswarna', '6/17/2016 0:01']\n"
     ]
    }
   ],
   "source": [
    "from csv import reader\n",
    "opened_file = open('hacker_news.csv')\n",
    "read_file = reader(opened_file)\n",
    "hn = list(read_file)\n",
    "for i in range(0,5):\n",
    "    print(hn[i])"
   ]
  },
  {
   "cell_type": "markdown",
   "metadata": {},
   "source": [
    "* Excluding the header;"
   ]
  },
  {
   "cell_type": "code",
   "execution_count": 2,
   "metadata": {},
   "outputs": [
    {
     "name": "stdout",
     "output_type": "stream",
     "text": [
      "['id', 'title', 'url', 'num_points', 'num_comments', 'author', 'created_at']\n",
      "\n",
      "['12224879', 'Interactive Dynamic Video', 'http://www.interactivedynamicvideo.com/', '386', '52', 'ne0phyte', '8/4/2016 11:52']\n",
      "['10975351', 'How to Use Open Source and Shut the Fuck Up at the Same Time', 'http://hueniverse.com/2016/01/26/how-to-use-open-source-and-shut-the-fuck-up-at-the-same-time/', '39', '10', 'josep2', '1/26/2016 19:30']\n",
      "['11964716', \"Florida DJs May Face Felony for April Fools' Water Joke\", 'http://www.thewire.com/entertainment/2013/04/florida-djs-april-fools-water-joke/63798/', '2', '1', 'vezycash', '6/23/2016 22:20']\n",
      "['11919867', 'Technology ventures: From Idea to Enterprise', 'https://www.amazon.com/Technology-Ventures-Enterprise-Thomas-Byers/dp/0073523429', '3', '1', 'hswarna', '6/17/2016 0:01']\n",
      "['10301696', 'Note by Note: The Making of Steinway L1037 (2007)', 'http://www.nytimes.com/2007/11/07/movies/07stein.html?_r=0', '8', '2', 'walterbell', '9/30/2015 4:12']\n"
     ]
    }
   ],
   "source": [
    "headers = hn[0]\n",
    "hn = hn[1:]\n",
    "print(headers)\n",
    "print()\n",
    "for i in range(0,5):\n",
    "    print(hn[i])"
   ]
  },
  {
   "cell_type": "markdown",
   "metadata": {},
   "source": [
    "* Separing the ask posts and show posts from the others;"
   ]
  },
  {
   "cell_type": "code",
   "execution_count": 3,
   "metadata": {},
   "outputs": [],
   "source": [
    "ask_posts = list()\n",
    "show_posts = list()\n",
    "other_posts = list()\n",
    "for row in hn:\n",
    "    title = row[1]\n",
    "    title = title.lower()\n",
    "    if title.startswith('ask hn'):\n",
    "        ask_posts.append(row)\n",
    "    elif title.startswith('show hn'):\n",
    "        show_posts.append(row)\n",
    "    else:\n",
    "        other_posts.append(row)"
   ]
  },
  {
   "cell_type": "markdown",
   "metadata": {},
   "source": [
    "* Calculating the average number of comments for ask and show posts;"
   ]
  },
  {
   "cell_type": "code",
   "execution_count": 4,
   "metadata": {},
   "outputs": [
    {
     "name": "stdout",
     "output_type": "stream",
     "text": [
      "14.04\n",
      "10.32\n"
     ]
    }
   ],
   "source": [
    "total_ask_comments = 0\n",
    "for row in ask_posts:\n",
    "    num_comments = row[4]\n",
    "    num_comments = int(num_comments)\n",
    "    total_ask_comments += num_comments\n",
    "num_ask_posts = len(ask_posts)\n",
    "avg_ask_comments = total_ask_comments / num_ask_posts\n",
    "print('{:.2f}'.format(avg_ask_comments))\n",
    "\n",
    "total_show_comments = 0\n",
    "for row in show_posts:\n",
    "    num_comments = row[4]\n",
    "    num_comments = int(num_comments)\n",
    "    total_show_comments += num_comments\n",
    "num_show_posts = len(show_posts)\n",
    "avg_show_comments = total_show_comments / num_show_posts\n",
    "print('{:.2f}'.format(avg_show_comments))"
   ]
  },
  {
   "cell_type": "markdown",
   "metadata": {},
   "source": [
    "**First conclusion:** *Ask posts receive more comments on average than show posts.*\n",
    "\n",
    "## More steps...\n",
    "\n",
    "- Adding the quantities of comments according to what hour they have been created;"
   ]
  },
  {
   "cell_type": "code",
   "execution_count": 5,
   "metadata": {},
   "outputs": [],
   "source": [
    "import datetime as dt\n",
    "result_list = list()\n",
    "for row in ask_posts:\n",
    "    result_list.append([row[6], int(row[4])])\n",
    "counts_by_hour = dict()\n",
    "comments_by_hour = dict()\n",
    "for row in result_list:\n",
    "    created_at = dt.datetime.strptime(row[0], '%m/%d/%Y %H:%M')\n",
    "    hour = created_at.strftime(\"%H\")\n",
    "    if hour not in counts_by_hour:\n",
    "        counts_by_hour[hour] = 1\n",
    "        comments_by_hour[hour] = row[1]\n",
    "    else:\n",
    "        counts_by_hour[hour] += 1\n",
    "        comments_by_hour[hour] += row[1]"
   ]
  },
  {
   "cell_type": "markdown",
   "metadata": {},
   "source": [
    "- Calculating the comments' average of each hour;"
   ]
  },
  {
   "cell_type": "code",
   "execution_count": 6,
   "metadata": {},
   "outputs": [
    {
     "name": "stdout",
     "output_type": "stream",
     "text": [
      "['18', 13.20183486238532]\n",
      "['12', 9.41095890410959]\n",
      "['20', 21.525]\n",
      "['22', 6.746478873239437]\n",
      "['01', 11.383333333333333]\n",
      "['14', 13.233644859813085]\n",
      "['03', 7.796296296296297]\n",
      "['16', 16.796296296296298]\n",
      "['11', 11.051724137931034]\n",
      "['19', 10.8]\n",
      "['08', 10.25]\n",
      "['23', 7.985294117647059]\n",
      "['02', 23.810344827586206]\n",
      "['15', 38.5948275862069]\n",
      "['04', 7.170212765957447]\n",
      "['09', 5.5777777777777775]\n",
      "['13', 14.741176470588234]\n",
      "['05', 10.08695652173913]\n",
      "['17', 11.46]\n",
      "['06', 9.022727272727273]\n",
      "['07', 7.852941176470588]\n",
      "['21', 16.009174311926607]\n",
      "['10', 13.440677966101696]\n",
      "['00', 8.127272727272727]\n"
     ]
    }
   ],
   "source": [
    "avg_by_hour = list()\n",
    "for hour in comments_by_hour:\n",
    "    avg_by_hour.append([hour, comments_by_hour[hour]/counts_by_hour[hour]])\n",
    "for average in avg_by_hour:\n",
    "    print(average)"
   ]
  },
  {
   "cell_type": "markdown",
   "metadata": {},
   "source": [
    "- Converting the columns Comments' average and Hour, sorting in descending order of average of comments aand printing the first five;"
   ]
  },
  {
   "cell_type": "code",
   "execution_count": 12,
   "metadata": {},
   "outputs": [
    {
     "name": "stdout",
     "output_type": "stream",
     "text": [
      "[13.20183486238532, '18']\n",
      "[9.41095890410959, '12']\n",
      "[21.525, '20']\n",
      "[6.746478873239437, '22']\n",
      "[11.383333333333333, '01']\n",
      "[13.233644859813085, '14']\n",
      "[7.796296296296297, '03']\n",
      "[16.796296296296298, '16']\n",
      "[11.051724137931034, '11']\n",
      "[10.8, '19']\n",
      "[10.25, '08']\n",
      "[7.985294117647059, '23']\n",
      "[23.810344827586206, '02']\n",
      "[38.5948275862069, '15']\n",
      "[7.170212765957447, '04']\n",
      "[5.5777777777777775, '09']\n",
      "[14.741176470588234, '13']\n",
      "[10.08695652173913, '05']\n",
      "[11.46, '17']\n",
      "[9.022727272727273, '06']\n",
      "[7.852941176470588, '07']\n",
      "[16.009174311926607, '21']\n",
      "[13.440677966101696, '10']\n",
      "[8.127272727272727, '00']\n",
      "\n",
      "Top 5 Hours for Ask Post Comments\n",
      "\n",
      "15:00: 38.59 average comments per post\n",
      "02:00: 23.81 average comments per post\n",
      "20:00: 21.52 average comments per post\n",
      "16:00: 16.80 average comments per post\n",
      "21:00: 16.01 average comments per post\n"
     ]
    }
   ],
   "source": [
    "swap_avg_by_hour = list()\n",
    "for row in avg_by_hour:\n",
    "    swap_avg_by_hour.append([row[1], row[0]])\n",
    "for hour in swap_avg_by_hour:\n",
    "    print(hour)\n",
    "print()\n",
    "sorted_swap = sorted(swap_avg_by_hour, reverse = True)\n",
    "print('Top 5 Hours for Ask Post Comments\\n')\n",
    "for i in range(0,5):\n",
    "    hour_object = dt.datetime.strptime(sorted_swap[i][1],\"%H\")\n",
    "    hour_formated = hour_object.strftime(\"%H:%M\")\n",
    "    print('{}: {:.2f} average comments per post'.format(hour_formated,sorted_swap[i][0]))"
   ]
  },
  {
   "cell_type": "markdown",
   "metadata": {},
   "source": [
    "**Second conclusion:** *At 15:00, the posts receive more comments, in average, than posts created in other time.*\n",
    "\n",
    "Ps: The time above is from Eastern Time in the US. To convert to Brasília Time (BRT), just add 1 hour.\n",
    "\n",
    "## Conclusion\n",
    "\n",
    "After all this analysis, we can conclude that Ask posts receive more comments on average than show posts and, to have a higher chance of receiving comments, you should create a post at 16:00 (BRT time zone).\n",
    "\n",
    "## Next steps...\n",
    "\n",
    "- Determine if show or ask posts receive more points on average.\n",
    "- Determine if posts created at a certain time are more likely to receive more points.\n",
    "- Compare your results to the average number of comments and points other posts receive.\n",
    "- Use Dataquest's data science project style guide to format your project."
   ]
  }
 ],
 "metadata": {
  "kernelspec": {
   "display_name": "Python 3",
   "language": "python",
   "name": "python3"
  },
  "language_info": {
   "codemirror_mode": {
    "name": "ipython",
    "version": 3
   },
   "file_extension": ".py",
   "mimetype": "text/x-python",
   "name": "python",
   "nbconvert_exporter": "python",
   "pygments_lexer": "ipython3",
   "version": "3.6.5"
  }
 },
 "nbformat": 4,
 "nbformat_minor": 2
}
